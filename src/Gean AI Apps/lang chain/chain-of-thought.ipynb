{
 "cells": [
  {
   "cell_type": "code",
   "execution_count": 2,
   "metadata": {},
   "outputs": [],
   "source": [
    "# Add prereq code to set open API key\n",
    "\n",
    "import os\n",
    "\n",
    "os.environ[\"OPENAI_API_KEY\"] = os.getenv('OPEN_AI_KEY')\n",
    "os.environ[\"OPENAI_API_BASE\"] = \"https://openai.vocareum.com/v1\""
   ]
  },
  {
   "cell_type": "code",
   "execution_count": 3,
   "metadata": {},
   "outputs": [
    {
     "name": "stdout",
     "output_type": "stream",
     "text": [
      "Original Answer: \n"
     ]
    },
    {
     "name": "stderr",
     "output_type": "stream",
     "text": [
      "C:\\Users\\freda\\AppData\\Local\\Temp\\ipykernel_21244\\601771148.py:12: LangChainDeprecationWarning: The method `BaseChatModel.predict` was deprecated in langchain-core 0.1.7 and will be removed in 1.0. Use :meth:`~invoke` instead.\n",
      "  print(llm.predict(instruction))\n"
     ]
    },
    {
     "name": "stdout",
     "output_type": "stream",
     "text": [
      "First, we need to find out how many tomatoes Andy harvested in total:\n",
      "18 plants * 7 tomatoes = 126 tomatoes\n",
      "\n",
      "Next, we need to find out how many tomatoes Andy dried:\n",
      "126 tomatoes / 2 = 63 tomatoes dried\n",
      "\n",
      "Now we need to find out how many tomatoes are left after drying:\n",
      "126 tomatoes - 63 tomatoes = 63 tomatoes remaining\n",
      "\n",
      "Next, we need to find out how many tomatoes Andy turned into marinara sauce:\n",
      "63 tomatoes / 3 = 21 tomatoes turned into marinara sauce\n",
      "\n",
      "Finally, we need to find out how many tomatoes are left after making marinara sauce:\n",
      "63 tomatoes - 21 tomatoes = 42 tomatoes left\n",
      "\n",
      "Therefore, Andy is left with 42 tomatoes.\n"
     ]
    }
   ],
   "source": [
    "from langchain.chat_models import ChatOpenAI\n",
    "from langchain.prompts import PromptTemplate\n",
    "from langchain.prompts.few_shot import FewShotPromptTemplate\n",
    "\n",
    "model_name = \"gpt-3.5-turbo\"\n",
    "temperature = 0.0\n",
    "llm = ChatOpenAI(model_name=model_name, temperature=temperature, max_tokens = 500)\n",
    "\n",
    "instruction = \"\"\" Andy harvests all the tomatoes from 18 plants that have 7 tomatoes each. If he dries half the\n",
    "tomatoes and turns a third of the remainder into marinara sauce, how many tomatoes are left? \"\"\"\n",
    "print(\"Original Answer: \")\n",
    "print(llm.predict(instruction))"
   ]
  },
  {
   "cell_type": "markdown",
   "metadata": {},
   "source": [
    "Let's see how we can solve this using Chain Of Thought reasoning"
   ]
  },
  {
   "cell_type": "code",
   "execution_count": 4,
   "metadata": {},
   "outputs": [
    {
     "name": "stdout",
     "output_type": "stream",
     "text": [
      "=== Chain of Thought Prompt ===\n",
      "\n",
      "Karen harvests all the pears from 20 trees that have 10 pears each. She  throws a third of them away as they are rotten,\n",
      "and turns a quarter of the remaining ones into jam. How many are left?\n",
      "\n",
      "\n",
      "    First, let's calculate how many pears Gloria harvests: it's 20 * 10 = 200. \n",
      "    Then, let's calculate how many are rotten: 200 * 1/3 = 66.\n",
      "    Thus, we know how many are left after she throws a third of them away: 200 - 66 = 134.\n",
      "    1/4 of the remaining ones are turned into jam, or 134 * 1/4 = 33. Therefore, Karen is left with 134 - 33, or 101 pears\n",
      "\n",
      "\n",
      "\n",
      "Sergei harvests all the strawberries from 50 plants that have 8 stawberries each. He freezes a quarter of them,\n",
      "and turns half of the remaining ones into jam. How many are left?\n",
      "\n",
      "\n",
      "    First, let's calculate how many strawberries Sergei harvests: it's 50 * 8 = 400. \n",
      "    Then, let's calculate how many are frozen: 400 * 1/4 = 100.\n",
      "    Thus, we know how many are left after he freezes 100 of them: 400 - 100 = 300.\n",
      "    half of the remaining ones are turned into jam, or 300 * 1/2 = 150. Therefore, Sergei is left with 300 - 150, or 150 pears\n",
      "\n",
      "\n",
      "Use these questions and answers to give correct response to the problem below:  Andy harvests all the tomatoes from 18 plants that have 7 tomatoes each. If he dries half the\n",
      "tomatoes and turns a third of the remainder into marinara sauce, how many tomatoes are left? \n"
     ]
    }
   ],
   "source": [
    "question1 = \"\"\"\n",
    "Karen harvests all the pears from 20 trees that have 10 pears each. She  throws a third of them away as they are rotten,\n",
    "and turns a quarter of the remaining ones into jam. How many are left?\n",
    "\"\"\"\n",
    "answer1 = \"\"\"\n",
    "    First, let's calculate how many pears Gloria harvests: it's 20 * 10 = 200. \n",
    "    Then, let's calculate how many are rotten: 200 * 1/3 = 66.\n",
    "    Thus, we know how many are left after she throws a third of them away: 200 - 66 = 134.\n",
    "    1/4 of the remaining ones are turned into jam, or 134 * 1/4 = 33. Therefore, Karen is left with 134 - 33, or 101 pears\n",
    "\"\"\"\n",
    "question2 = \"\"\"\n",
    "Sergei harvests all the strawberries from 50 plants that have 8 stawberries each. He freezes a quarter of them,\n",
    "and turns half of the remaining ones into jam. How many are left?\n",
    "\"\"\"\n",
    "answer2 = \"\"\"\n",
    "    First, let's calculate how many strawberries Sergei harvests: it's 50 * 8 = 400. \n",
    "    Then, let's calculate how many are frozen: 400 * 1/4 = 100.\n",
    "    Thus, we know how many are left after he freezes 100 of them: 400 - 100 = 300.\n",
    "    half of the remaining ones are turned into jam, or 300 * 1/2 = 150. Therefore, Sergei is left with 300 - 150, or 150 pears\n",
    "\"\"\"\n",
    "\n",
    "\n",
    "example_prompt = PromptTemplate(input_variables=[\"question\", \"answer\"], \n",
    "                                template=\"{question}\\n{answer}\")\n",
    "examples = [ \n",
    "    {\n",
    "        \"question\": question1,\n",
    "        \"answer\": answer1,\n",
    "    },\n",
    "    {\n",
    "        \"question\": question2,\n",
    "        \"answer\": answer2,\n",
    "    }\n",
    "]\n",
    "\n",
    "cot_prompt = FewShotPromptTemplate(\n",
    "    examples=examples, \n",
    "    example_prompt=example_prompt, \n",
    "    suffix=\"Use these questions and answers to give correct response to the problem below: {input}\", \n",
    "    input_variables=[\"input\"]\n",
    ")\n",
    "\n",
    "cot_text = cot_prompt.format(input=instruction)\n",
    "print(\"=== Chain of Thought Prompt ===\")\n",
    "print(cot_text)\n"
   ]
  },
  {
   "cell_type": "code",
   "execution_count": 5,
   "metadata": {},
   "outputs": [
    {
     "name": "stdout",
     "output_type": "stream",
     "text": [
      "=== Chain of Thought Answer ===\n",
      "First, let's calculate how many tomatoes Andy harvests: it's 18 * 7 = 126.\n",
      "Then, let's calculate how many are dried: 126 * 1/2 = 63.\n",
      "Thus, we know how many are left after he dries half of them: 126 - 63 = 63.\n",
      "A third of the remaining ones are turned into marinara sauce, or 63 * 1/3 = 21. Therefore, Andy is left with 63 - 21, or 42 tomatoes.\n"
     ]
    }
   ],
   "source": [
    "\n",
    "print(\"=== Chain of Thought Answer ===\")\n",
    "print(llm.predict(cot_text))"
   ]
  }
 ],
 "metadata": {
  "kernelspec": {
   "display_name": "Python 3",
   "language": "python",
   "name": "python3"
  },
  "language_info": {
   "codemirror_mode": {
    "name": "ipython",
    "version": 3
   },
   "file_extension": ".py",
   "mimetype": "text/x-python",
   "name": "python",
   "nbconvert_exporter": "python",
   "pygments_lexer": "ipython3",
   "version": "3.12.1"
  }
 },
 "nbformat": 4,
 "nbformat_minor": 2
}
